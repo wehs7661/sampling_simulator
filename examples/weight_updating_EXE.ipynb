{
 "cells": [
  {
   "cell_type": "markdown",
   "id": "fd1758b1",
   "metadata": {},
   "source": [
    "# Weight-updating EXE simulations"
   ]
  },
  {
   "cell_type": "markdown",
   "id": "50966d43",
   "metadata": {},
   "source": [
    "In this notebook, we will use `sampling_simulator` to simulate the sampling in the alchemical space by the Wang-Landau algorithm in an weight-updating expanded ensemble (EXE) simulation."
   ]
  },
  {
   "cell_type": "code",
   "execution_count": null,
   "id": "b31aa631",
   "metadata": {},
   "outputs": [],
   "source": [
    "import numpy as np\n",
    "from sampling_simulator import wang_landau_algorithm as wl"
   ]
  },
  {
   "cell_type": "code",
   "execution_count": 3,
   "id": "8e7e0d9b",
   "metadata": {},
   "outputs": [],
   "source": [
    "params_dict = {\n",
    "    'n_steps': 200000,\n",
    "    'wl_ratio': 0.8,\n",
    "    'wl_scale': 0.7,\n",
    "    'wl_delta': 10,            # init_wl_delta in GROMACS\n",
    "    'wl_delta_cutoff': 0.001,   # weight-equil-wl-delta in GROMACS\n",
    "}"
   ]
  },
  {
   "cell_type": "code",
   "execution_count": 6,
   "id": "b99f2df4",
   "metadata": {},
   "outputs": [],
   "source": [
    "f_ref_whole = np.array([\n",
    "    0.0, 57.805215366068346, 112.49325354921746, 163.9053804543671, 211.1228680338599, 254.58059732433938, 295.5660812208014,\n",
    "    334.6531501257331, 371.45476696195874, 406.65593569265764, 439.2891881651442, 469.42891547180665, 497.15580279170484,\n",
    "    522.4463901739871, 545.4157353241036, 566.0988033555478, 584.5719734781715, 600.4976380135653, 614.3116862505102, 625.6622986339568,\n",
    "    634.9000108527418, 639.2141393579959, 643.3695667349867, 647.2981063000773, 650.9040500232999, 652.5280053311945, 653.9774650452159, \n",
    "    655.178901008137, 656.0135314031018, 656.2533557264542, 656.2030286485515, 655.7434099493724, 654.7837017140891, 653.4171450203427,\n",
    "    651.8897886531751, 650.4268292093915, 649.155734577982, 647.8279229679827, 646.8756268046341, 645.4731180684097,\n",
    "], dtype=float)"
   ]
  },
  {
   "cell_type": "markdown",
   "id": "6acad92c",
   "metadata": {},
   "source": [
    "## Whole-range EXE simulation"
   ]
  },
  {
   "cell_type": "code",
   "execution_count": 4,
   "id": "0df2141f",
   "metadata": {},
   "outputs": [
    {
     "name": "stdout",
     "output_type": "stream",
     "text": [
      "Whole-range EXE simulation\n",
      "  Equilibration time: 46601 +/- 3129 steps\n",
      "  RMSE: 0.030 +/- 0.009 kT\n"
     ]
    }
   ],
   "source": [
    "t_equil_list, rmse_list = [], []\n",
    "for i in range(100):\n",
    "    f_ref = f_ref_whole\n",
    "    simulator = mock_WL_algorithm(params_dict, f_ref)\n",
    "    simulator.run()\n",
    "    t_equil_list.append(simulator.equil_time)\n",
    "    rmse_list.append(calc_rmse(simulator.g, f_ref - f_ref[0]))\n",
    "    \n",
    "\n",
    "t_equil = np.mean(t_equil_list)\n",
    "t_equil_err = np.std(t_equil_list, ddof=1)\n",
    "rmse = np.mean(rmse_list)\n",
    "rmse_err = np.std(rmse_list, ddof=1)\n",
    "comp_cost_rep = []\n",
    "\n",
    "print('Whole-range EXE simulation')\n",
    "print(f'  Equilibration time: {t_equil:.0f} +/- {t_equil_err:.0f} steps')\n",
    "print(f'  RMSE: {rmse:.3f} +/- {rmse_err:.3f} kT')"
   ]
  },
  {
   "cell_type": "markdown",
   "id": "42c8f632",
   "metadata": {},
   "source": [
    "## Decoupled EXE replicas"
   ]
  },
  {
   "cell_type": "code",
   "execution_count": 5,
   "id": "c34fff5e",
   "metadata": {},
   "outputs": [],
   "source": [
    "comp_cost = []"
   ]
  },
  {
   "cell_type": "code",
   "execution_count": 6,
   "id": "fd70cf34",
   "metadata": {},
   "outputs": [
    {
     "name": "stdout",
     "output_type": "stream",
     "text": [
      "State range: 0-12\n",
      "  Equilibration time: 9243 +/- 820 steps\n",
      "  RMSE: 0.035 +/- 0.011 kT\n",
      "\n",
      "State range: 9-21\n",
      "  Equilibration time: 9418 +/- 1074 steps\n",
      "  RMSE: 0.035 +/- 0.007 kT\n",
      "\n",
      "State range: 18-30\n",
      "  Equilibration time: 8574 +/- 635 steps\n",
      "  RMSE: 0.031 +/- 0.008 kT\n",
      "\n",
      "State range: 27-39\n",
      "  Equilibration time: 8776 +/- 1191 steps\n",
      "  RMSE: 0.036 +/- 0.019 kT\n",
      "\n",
      "Computational cost: 37672.8 A.U.\n"
     ]
    }
   ],
   "source": [
    "# minimum overlap\n",
    "s = 9\n",
    "n_sub = 13\n",
    "t_equil_all = []\n",
    "for i in range(4):\n",
    "    t_equil_list, rmse_list = [], []\n",
    "    for j in range(10):\n",
    "        f_ref = f_ref_whole[i * s : i * s + n_sub]\n",
    "        simulator = mock_WL_algorithm(params_dict, f_ref)\n",
    "        simulator.run()\n",
    "        t_equil_list.append(simulator.equil_time)\n",
    "        rmse_list.append(calc_rmse(simulator.g, f_ref - f_ref[0]))\n",
    "\n",
    "\n",
    "    t_equil = np.mean(t_equil_list)\n",
    "    t_equil_err = np.std(t_equil_list, ddof=1)\n",
    "    rmse = np.mean(rmse_list)\n",
    "    rmse_err = np.std(rmse_list, ddof=1)\n",
    "    t_equil_all.append(t_equil)\n",
    "\n",
    "    print(f'State range: {i * s}-{i * s + n_sub - 1}')\n",
    "    print(f'  Equilibration time: {t_equil:.0f} +/- {t_equil_err:.0f} steps')\n",
    "    print(f'  RMSE: {rmse:.3f} +/- {rmse_err:.3f} kT\\n')\n",
    "\n",
    "comp_cost.append(max(t_equil_all) * 4)\n",
    "print(f'Computational cost: {max(t_equil_all) * 4} A.U.')"
   ]
  },
  {
   "cell_type": "code",
   "execution_count": 7,
   "id": "df29b80d",
   "metadata": {},
   "outputs": [
    {
     "name": "stdout",
     "output_type": "stream",
     "text": [
      "State range: 0-15\n",
      "  Equilibration time: 12981 +/- 948 steps\n",
      "  RMSE: 0.038 +/- 0.012 kT\n",
      "\n",
      "State range: 8-23\n",
      "  Equilibration time: 12640 +/- 1590 steps\n",
      "  RMSE: 0.027 +/- 0.006 kT\n",
      "\n",
      "State range: 16-31\n",
      "  Equilibration time: 11086 +/- 921 steps\n",
      "  RMSE: 0.028 +/- 0.007 kT\n",
      "\n",
      "State range: 24-39\n",
      "  Equilibration time: 11446 +/- 1292 steps\n",
      "  RMSE: 0.035 +/- 0.015 kT\n",
      "\n",
      "Computational cost: 51924.0 A.U.\n"
     ]
    }
   ],
   "source": [
    "s = 8\n",
    "n_sub = 16\n",
    "t_equil_all = []\n",
    "for i in range(4):\n",
    "    t_equil_list, rmse_list = [], []\n",
    "    for j in range(10):\n",
    "        f_ref = f_ref_whole[i * s : i * s + n_sub]\n",
    "        simulator = mock_WL_algorithm(params_dict, f_ref)\n",
    "        simulator.run()\n",
    "        t_equil_list.append(simulator.equil_time)\n",
    "        rmse_list.append(calc_rmse(simulator.g, f_ref - f_ref[0]))\n",
    "\n",
    "\n",
    "    t_equil = np.mean(t_equil_list)\n",
    "    t_equil_err = np.std(t_equil_list, ddof=1)\n",
    "    rmse = np.mean(rmse_list)\n",
    "    rmse_err = np.std(rmse_list, ddof=1)\n",
    "    t_equil_all.append(t_equil)\n",
    "\n",
    "    print(f'State range: {i * s}-{i * s + n_sub - 1}')\n",
    "    print(f'  Equilibration time: {t_equil:.0f} +/- {t_equil_err:.0f} steps')\n",
    "    print(f'  RMSE: {rmse:.3f} +/- {rmse_err:.3f} kT\\n')\n",
    "\n",
    "comp_cost.append(max(t_equil_all) * 4)\n",
    "print(f'Computational cost: {max(t_equil_all) * 4} A.U.')"
   ]
  },
  {
   "cell_type": "markdown",
   "id": "637b3430",
   "metadata": {},
   "source": [
    "### s = 7"
   ]
  },
  {
   "cell_type": "code",
   "execution_count": 8,
   "id": "46972b3e",
   "metadata": {},
   "outputs": [
    {
     "name": "stdout",
     "output_type": "stream",
     "text": [
      "State range: 0-18\n",
      "  Equilibration time: 16873 +/- 553 steps\n",
      "  RMSE: 0.029 +/- 0.009 kT\n",
      "\n",
      "State range: 7-25\n",
      "  Equilibration time: 15632 +/- 1861 steps\n",
      "  RMSE: 0.036 +/- 0.013 kT\n",
      "\n",
      "State range: 14-32\n",
      "  Equilibration time: 15267 +/- 1906 steps\n",
      "  RMSE: 0.036 +/- 0.013 kT\n",
      "\n",
      "State range: 21-39\n",
      "  Equilibration time: 14196 +/- 1709 steps\n",
      "  RMSE: 0.036 +/- 0.010 kT\n",
      "\n",
      "Computational cost: 67492.0 A.U.\n"
     ]
    }
   ],
   "source": [
    "s = 7\n",
    "n_sub = 19\n",
    "t_equil_all = []\n",
    "for i in range(4):\n",
    "    t_equil_list, rmse_list = [], []\n",
    "    for j in range(10):\n",
    "        f_ref = f_ref_whole[i * s : i * s + n_sub]\n",
    "        simulator = mock_WL_algorithm(params_dict, f_ref)\n",
    "        simulator.run()\n",
    "        t_equil_list.append(simulator.equil_time)\n",
    "        rmse_list.append(calc_rmse(simulator.g, f_ref - f_ref[0]))\n",
    "\n",
    "\n",
    "    t_equil = np.mean(t_equil_list)\n",
    "    t_equil_err = np.std(t_equil_list, ddof=1)\n",
    "    rmse = np.mean(rmse_list)\n",
    "    rmse_err = np.std(rmse_list, ddof=1)\n",
    "    t_equil_all.append(t_equil)\n",
    "\n",
    "    print(f'State range: {i * s}-{i * s + n_sub - 1}')\n",
    "    print(f'  Equilibration time: {t_equil:.0f} +/- {t_equil_err:.0f} steps')\n",
    "    print(f'  RMSE: {rmse:.3f} +/- {rmse_err:.3f} kT\\n')\n",
    "\n",
    "comp_cost.append(max(t_equil_all) * 4)\n",
    "print(f'Computational cost: {max(t_equil_all) * 4} A.U.')"
   ]
  },
  {
   "cell_type": "code",
   "execution_count": 9,
   "id": "6cff3ff2",
   "metadata": {},
   "outputs": [
    {
     "name": "stdout",
     "output_type": "stream",
     "text": [
      "State range: 0-21\n",
      "  Equilibration time: 20681 +/- 910 steps\n",
      "  RMSE: 0.036 +/- 0.012 kT\n",
      "\n",
      "State range: 6-27\n",
      "  Equilibration time: 19823 +/- 2109 steps\n",
      "  RMSE: 0.034 +/- 0.012 kT\n",
      "\n",
      "State range: 12-33\n",
      "  Equilibration time: 17828 +/- 2095 steps\n",
      "  RMSE: 0.036 +/- 0.009 kT\n",
      "\n",
      "State range: 18-39\n",
      "  Equilibration time: 17798 +/- 1083 steps\n",
      "  RMSE: 0.032 +/- 0.012 kT\n",
      "\n",
      "Computational cost: 82723.6 A.U.\n"
     ]
    }
   ],
   "source": [
    "s = 6\n",
    "n_sub = 22\n",
    "t_equil_all = []\n",
    "for i in range(4):\n",
    "    t_equil_list, rmse_list = [], []\n",
    "    for j in range(10):\n",
    "        f_ref = f_ref_whole[i * s : i * s + n_sub]\n",
    "        simulator = mock_WL_algorithm(params_dict, f_ref)\n",
    "        simulator.run()\n",
    "        t_equil_list.append(simulator.equil_time)\n",
    "        rmse_list.append(calc_rmse(simulator.g, f_ref - f_ref[0]))\n",
    "\n",
    "\n",
    "    t_equil = np.mean(t_equil_list)\n",
    "    t_equil_err = np.std(t_equil_list, ddof=1)\n",
    "    rmse = np.mean(rmse_list)\n",
    "    rmse_err = np.std(rmse_list, ddof=1)\n",
    "    t_equil_all.append(t_equil)\n",
    "\n",
    "    print(f'State range: {i * s}-{i * s + n_sub - 1}')\n",
    "    print(f'  Equilibration time: {t_equil:.0f} +/- {t_equil_err:.0f} steps')\n",
    "    print(f'  RMSE: {rmse:.3f} +/- {rmse_err:.3f} kT\\n')\n",
    "\n",
    "comp_cost.append(max(t_equil_all) * 4)\n",
    "print(f'Computational cost: {max(t_equil_all) * 4} A.U.')"
   ]
  },
  {
   "cell_type": "code",
   "execution_count": 10,
   "id": "b46b9e6d",
   "metadata": {},
   "outputs": [
    {
     "name": "stdout",
     "output_type": "stream",
     "text": [
      "State range: 0-24\n",
      "  Equilibration time: 24932 +/- 1275 steps\n",
      "  RMSE: 0.041 +/- 0.016 kT\n",
      "\n",
      "State range: 5-29\n",
      "  Equilibration time: 24263 +/- 1245 steps\n",
      "  RMSE: 0.032 +/- 0.007 kT\n",
      "\n",
      "State range: 10-34\n",
      "  Equilibration time: 22019 +/- 1779 steps\n",
      "  RMSE: 0.036 +/- 0.015 kT\n",
      "\n",
      "State range: 15-39\n",
      "  Equilibration time: 20107 +/- 2169 steps\n",
      "  RMSE: 0.032 +/- 0.005 kT\n",
      "\n",
      "Computational cost: 99726.4 A.U.\n"
     ]
    }
   ],
   "source": [
    "s = 5\n",
    "n_sub = 25\n",
    "t_equil_all = []\n",
    "for i in range(4):\n",
    "    t_equil_list, rmse_list = [], []\n",
    "    for j in range(10):\n",
    "        f_ref = f_ref_whole[i * s : i * s + n_sub]\n",
    "        simulator = mock_WL_algorithm(params_dict, f_ref)\n",
    "        simulator.run()\n",
    "        t_equil_list.append(simulator.equil_time)\n",
    "        rmse_list.append(calc_rmse(simulator.g, f_ref - f_ref[0]))\n",
    "\n",
    "\n",
    "    t_equil = np.mean(t_equil_list)\n",
    "    t_equil_err = np.std(t_equil_list, ddof=1)\n",
    "    rmse = np.mean(rmse_list)\n",
    "    rmse_err = np.std(rmse_list, ddof=1)\n",
    "    t_equil_all.append(t_equil)\n",
    "\n",
    "    print(f'State range: {i * s}-{i * s + n_sub - 1}')\n",
    "    print(f'  Equilibration time: {t_equil:.0f} +/- {t_equil_err:.0f} steps')\n",
    "    print(f'  RMSE: {rmse:.3f} +/- {rmse_err:.3f} kT\\n')\n",
    "\n",
    "comp_cost.append(max(t_equil_all) * 4)\n",
    "print(f'Computational cost: {max(t_equil_all) * 4} A.U.')"
   ]
  },
  {
   "cell_type": "code",
   "execution_count": 11,
   "id": "3cc42f04",
   "metadata": {},
   "outputs": [
    {
     "name": "stdout",
     "output_type": "stream",
     "text": [
      "State range: 0-27\n",
      "  Equilibration time: 29455 +/- 1776 steps\n",
      "  RMSE: 0.030 +/- 0.005 kT\n",
      "\n",
      "State range: 4-31\n",
      "  Equilibration time: 28252 +/- 2010 steps\n",
      "  RMSE: 0.029 +/- 0.005 kT\n",
      "\n",
      "State range: 8-35\n",
      "  Equilibration time: 26300 +/- 2063 steps\n",
      "  RMSE: 0.028 +/- 0.008 kT\n",
      "\n",
      "State range: 12-39\n",
      "  Equilibration time: 26240 +/- 1974 steps\n",
      "  RMSE: 0.028 +/- 0.006 kT\n",
      "\n",
      "Computational cost: 117819.2 A.U.\n"
     ]
    }
   ],
   "source": [
    "s = 4\n",
    "n_sub = 28\n",
    "t_equil_all = []\n",
    "for i in range(4):\n",
    "    t_equil_list, rmse_list = [], []\n",
    "    for j in range(10):\n",
    "        f_ref = f_ref_whole[i * s : i * s + n_sub]\n",
    "        simulator = mock_WL_algorithm(params_dict, f_ref)\n",
    "        simulator.run()\n",
    "        t_equil_list.append(simulator.equil_time)\n",
    "        rmse_list.append(calc_rmse(simulator.g, f_ref - f_ref[0]))\n",
    "\n",
    "\n",
    "    t_equil = np.mean(t_equil_list)\n",
    "    t_equil_err = np.std(t_equil_list, ddof=1)\n",
    "    rmse = np.mean(rmse_list)\n",
    "    rmse_err = np.std(rmse_list, ddof=1)\n",
    "    t_equil_all.append(t_equil)\n",
    "\n",
    "    print(f'State range: {i * s}-{i * s + n_sub - 1}')\n",
    "    print(f'  Equilibration time: {t_equil:.0f} +/- {t_equil_err:.0f} steps')\n",
    "    print(f'  RMSE: {rmse:.3f} +/- {rmse_err:.3f} kT\\n')\n",
    "\n",
    "comp_cost.append(max(t_equil_all) * 4)\n",
    "print(f'Computational cost: {max(t_equil_all) * 4} A.U.')"
   ]
  },
  {
   "cell_type": "code",
   "execution_count": 12,
   "id": "4ab15286",
   "metadata": {},
   "outputs": [
    {
     "name": "stdout",
     "output_type": "stream",
     "text": [
      "State range: 0-30\n",
      "  Equilibration time: 32414 +/- 2359 steps\n",
      "  RMSE: 0.041 +/- 0.018 kT\n",
      "\n",
      "State range: 3-33\n",
      "  Equilibration time: 31859 +/- 2704 steps\n",
      "  RMSE: 0.031 +/- 0.011 kT\n",
      "\n",
      "State range: 6-36\n",
      "  Equilibration time: 31354 +/- 2551 steps\n",
      "  RMSE: 0.032 +/- 0.010 kT\n",
      "\n",
      "State range: 9-39\n",
      "  Equilibration time: 30397 +/- 2659 steps\n",
      "  RMSE: 0.040 +/- 0.016 kT\n",
      "\n",
      "Computational cost: 129656.4 A.U.\n"
     ]
    }
   ],
   "source": [
    "s = 3\n",
    "n_sub = 31\n",
    "t_equil_all = []\n",
    "for i in range(4):\n",
    "    t_equil_list, rmse_list = [], []\n",
    "    for j in range(10):\n",
    "        f_ref = f_ref_whole[i * s : i * s + n_sub]\n",
    "        simulator = mock_WL_algorithm(params_dict, f_ref)\n",
    "        simulator.run()\n",
    "        t_equil_list.append(simulator.equil_time)\n",
    "        rmse_list.append(calc_rmse(simulator.g, f_ref - f_ref[0]))\n",
    "\n",
    "\n",
    "    t_equil = np.mean(t_equil_list)\n",
    "    t_equil_err = np.std(t_equil_list, ddof=1)\n",
    "    rmse = np.mean(rmse_list)\n",
    "    rmse_err = np.std(rmse_list, ddof=1)\n",
    "    t_equil_all.append(t_equil)\n",
    "\n",
    "    print(f'State range: {i * s}-{i * s + n_sub - 1}')\n",
    "    print(f'  Equilibration time: {t_equil:.0f} +/- {t_equil_err:.0f} steps')\n",
    "    print(f'  RMSE: {rmse:.3f} +/- {rmse_err:.3f} kT\\n')\n",
    "\n",
    "comp_cost.append(max(t_equil_all) * 4)\n",
    "print(f'Computational cost: {max(t_equil_all) * 4} A.U.')"
   ]
  },
  {
   "cell_type": "code",
   "execution_count": 13,
   "id": "034abfaa",
   "metadata": {},
   "outputs": [
    {
     "name": "stdout",
     "output_type": "stream",
     "text": [
      "State range: 0-33\n",
      "  Equilibration time: 37915 +/- 2469 steps\n",
      "  RMSE: 0.032 +/- 0.010 kT\n",
      "\n",
      "State range: 2-35\n",
      "  Equilibration time: 36342 +/- 2536 steps\n",
      "  RMSE: 0.037 +/- 0.012 kT\n",
      "\n",
      "State range: 4-37\n",
      "  Equilibration time: 37412 +/- 2370 steps\n",
      "  RMSE: 0.031 +/- 0.006 kT\n",
      "\n",
      "State range: 6-39\n",
      "  Equilibration time: 34024 +/- 2614 steps\n",
      "  RMSE: 0.033 +/- 0.008 kT\n",
      "\n",
      "Computational cost: 151659.6 A.U.\n"
     ]
    }
   ],
   "source": [
    "s = 2\n",
    "n_sub = 34\n",
    "t_equil_all = []\n",
    "for i in range(4):\n",
    "    t_equil_list, rmse_list = [], []\n",
    "    for j in range(10):\n",
    "        f_ref = f_ref_whole[i * s : i * s + n_sub]\n",
    "        simulator = mock_WL_algorithm(params_dict, f_ref)\n",
    "        simulator.run()\n",
    "        t_equil_list.append(simulator.equil_time)\n",
    "        rmse_list.append(calc_rmse(simulator.g, f_ref - f_ref[0]))\n",
    "\n",
    "\n",
    "    t_equil = np.mean(t_equil_list)\n",
    "    t_equil_err = np.std(t_equil_list, ddof=1)\n",
    "    rmse = np.mean(rmse_list)\n",
    "    rmse_err = np.std(rmse_list, ddof=1)\n",
    "    t_equil_all.append(t_equil)\n",
    "\n",
    "    print(f'State range: {i * s}-{i * s + n_sub - 1}')\n",
    "    print(f'  Equilibration time: {t_equil:.0f} +/- {t_equil_err:.0f} steps')\n",
    "    print(f'  RMSE: {rmse:.3f} +/- {rmse_err:.3f} kT\\n')\n",
    "\n",
    "comp_cost.append(max(t_equil_all) * 4)\n",
    "print(f'Computational cost: {max(t_equil_all) * 4} A.U.')"
   ]
  },
  {
   "cell_type": "code",
   "execution_count": 14,
   "id": "9784303d",
   "metadata": {},
   "outputs": [
    {
     "name": "stdout",
     "output_type": "stream",
     "text": [
      "State range: 0-36\n",
      "  Equilibration time: 42572 +/- 2457 steps\n",
      "  RMSE: 0.033 +/- 0.012 kT\n",
      "\n",
      "State range: 1-37\n",
      "  Equilibration time: 40070 +/- 2730 steps\n",
      "  RMSE: 0.032 +/- 0.013 kT\n",
      "\n",
      "State range: 2-38\n",
      "  Equilibration time: 40819 +/- 2762 steps\n",
      "  RMSE: 0.031 +/- 0.007 kT\n",
      "\n",
      "State range: 3-39\n",
      "  Equilibration time: 41454 +/- 2717 steps\n",
      "  RMSE: 0.033 +/- 0.008 kT\n",
      "\n",
      "Computational cost: 170287.6 A.U.\n"
     ]
    }
   ],
   "source": [
    "s = 1\n",
    "n_sub = 37\n",
    "t_equil_all = []\n",
    "for i in range(4):\n",
    "    t_equil_list, rmse_list = [], []\n",
    "    for j in range(10):\n",
    "        f_ref = f_ref_whole[i * s : i * s + n_sub]\n",
    "        simulator = mock_WL_algorithm(params_dict, f_ref)\n",
    "        simulator.run()\n",
    "        t_equil_list.append(simulator.equil_time)\n",
    "        rmse_list.append(calc_rmse(simulator.g, f_ref - f_ref[0]))\n",
    "\n",
    "\n",
    "    t_equil = np.mean(t_equil_list)\n",
    "    t_equil_err = np.std(t_equil_list, ddof=1)\n",
    "    rmse = np.mean(rmse_list)\n",
    "    rmse_err = np.std(rmse_list, ddof=1)\n",
    "    t_equil_all.append(t_equil)\n",
    "\n",
    "    print(f'State range: {i * s}-{i * s + n_sub - 1}')\n",
    "    print(f'  Equilibration time: {t_equil:.0f} +/- {t_equil_err:.0f} steps')\n",
    "    print(f'  RMSE: {rmse:.3f} +/- {rmse_err:.3f} kT\\n')\n",
    "\n",
    "comp_cost.append(max(t_equil_all) * 4)\n",
    "print(f'Computational cost: {max(t_equil_all) * 4} A.U.')"
   ]
  },
  {
   "cell_type": "code",
   "execution_count": 23,
   "id": "12871969",
   "metadata": {},
   "outputs": [
    {
     "data": {
      "image/png": "[encoded data removed]",
      "text/plain": [
       "<Figure size 432x288 with 1 Axes>"
      ]
     },
     "metadata": {
      "needs_background": "light"
     },
     "output_type": "display_data"
    }
   ],
   "source": [
    "s = range(1, 10)\n",
    "comp_cost.reverse()\n",
    "\n",
    "plt.figure()\n",
    "plt.plot(s, comp_cost, marker='o')\n",
    "plt.xlabel('State shift between ranges')\n",
    "plt.ylabel('Cost of decoupled EXE replicas (A.U.)')\n",
    "plt.grid()"
   ]
  },
  {
   "cell_type": "markdown",
   "id": "4351f713",
   "metadata": {},
   "source": [
    "So, it's clear that with the same number of replicas, the fewer the replicas, the lower the computational cost. Here, we explore decoupled EXE replicas with other numbers of replicas and minimal overlap. (With `n_sim=1`, the computational cost was just the cost of the whole-range EXE simulation, i.e., 46767 A.U.) "
   ]
  },
  {
   "cell_type": "code",
   "execution_count": 21,
   "id": "bc704d80",
   "metadata": {},
   "outputs": [],
   "source": [
    "comp_cost_rep = []"
   ]
  },
  {
   "cell_type": "markdown",
   "id": "62b7de85",
   "metadata": {},
   "source": [
    "### n_sim = 2, s=19, n_sub=21"
   ]
  },
  {
   "cell_type": "code",
   "execution_count": 28,
   "id": "9007ad05",
   "metadata": {},
   "outputs": [
    {
     "name": "stdout",
     "output_type": "stream",
     "text": [
      "State range: 0-20\n",
      "  Equilibration time: 19042 +/- 1705 steps\n",
      "  RMSE: 0.034 +/- 0.015 kT\n",
      "\n",
      "State range: 19-39\n",
      "  Equilibration time: 16486 +/- 1663 steps\n",
      "  RMSE: 0.029 +/- 0.009 kT\n",
      "\n",
      "Computational cost: 38083.0 A.U.\n"
     ]
    }
   ],
   "source": [
    "s = 19\n",
    "n_sub = 21\n",
    "n_sim = 2\n",
    "t_equil_all = []\n",
    "for i in range(n_sim):\n",
    "    t_equil_list, rmse_list = [], []\n",
    "    for j in range(10):\n",
    "        f_ref = f_ref_whole[i * s : i * s + n_sub]\n",
    "        simulator = mock_WL_algorithm(params_dict, f_ref)\n",
    "        simulator.run()\n",
    "        t_equil_list.append(simulator.equil_time)\n",
    "        rmse_list.append(calc_rmse(simulator.g, f_ref - f_ref[0]))\n",
    "\n",
    "\n",
    "    t_equil = np.mean(t_equil_list)\n",
    "    t_equil_err = np.std(t_equil_list, ddof=1)\n",
    "    rmse = np.mean(rmse_list)\n",
    "    rmse_err = np.std(rmse_list, ddof=1)\n",
    "    t_equil_all.append(t_equil)\n",
    "\n",
    "    print(f'State range: {i * s}-{i * s + n_sub - 1}')\n",
    "    print(f'  Equilibration time: {t_equil:.0f} +/- {t_equil_err:.0f} steps')\n",
    "    print(f'  RMSE: {rmse:.3f} +/- {rmse_err:.3f} kT\\n')\n",
    "\n",
    "print(f'Computational cost: {max(t_equil_all) * n_sim} A.U.')"
   ]
  },
  {
   "cell_type": "markdown",
   "id": "33de7dff",
   "metadata": {},
   "source": [
    "### n_sim = 3, s=13, n_sub=14"
   ]
  },
  {
   "cell_type": "code",
   "execution_count": 29,
   "id": "86298262",
   "metadata": {},
   "outputs": [
    {
     "name": "stdout",
     "output_type": "stream",
     "text": [
      "State range: 0-13\n",
      "  Equilibration time: 10616 +/- 837 steps\n",
      "  RMSE: 0.035 +/- 0.009 kT\n",
      "\n",
      "State range: 13-26\n",
      "  Equilibration time: 9215 +/- 1001 steps\n",
      "  RMSE: 0.044 +/- 0.013 kT\n",
      "\n",
      "State range: 26-39\n",
      "  Equilibration time: 9290 +/- 899 steps\n",
      "  RMSE: 0.036 +/- 0.018 kT\n",
      "\n",
      "Computational cost: 31849.5 A.U.\n"
     ]
    }
   ],
   "source": [
    "s = 13\n",
    "n_sub = 14\n",
    "n_sim = 3\n",
    "t_equil_all = []\n",
    "for i in range(n_sim):\n",
    "    t_equil_list, rmse_list = [], []\n",
    "    for j in range(10):\n",
    "        f_ref = f_ref_whole[i * s : i * s + n_sub]\n",
    "        simulator = mock_WL_algorithm(params_dict, f_ref)\n",
    "        simulator.run()\n",
    "        t_equil_list.append(simulator.equil_time)\n",
    "        rmse_list.append(calc_rmse(simulator.g, f_ref - f_ref[0]))\n",
    "\n",
    "\n",
    "    t_equil = np.mean(t_equil_list)\n",
    "    t_equil_err = np.std(t_equil_list, ddof=1)\n",
    "    rmse = np.mean(rmse_list)\n",
    "    rmse_err = np.std(rmse_list, ddof=1)\n",
    "    t_equil_all.append(t_equil)\n",
    "\n",
    "    print(f'State range: {i * s}-{i * s + n_sub - 1}')\n",
    "    print(f'  Equilibration time: {t_equil:.0f} +/- {t_equil_err:.0f} steps')\n",
    "    print(f'  RMSE: {rmse:.3f} +/- {rmse_err:.3f} kT\\n')\n",
    "\n",
    "print(f'Computational cost: {max(t_equil_all) * n_sim} A.U.')"
   ]
  },
  {
   "cell_type": "markdown",
   "id": "7c327917",
   "metadata": {},
   "source": [
    "### n_sim=5, s=7, n_sub=12"
   ]
  },
  {
   "cell_type": "code",
   "execution_count": 30,
   "id": "e1357822",
   "metadata": {},
   "outputs": [
    {
     "name": "stdout",
     "output_type": "stream",
     "text": [
      "State range: 0-11\n",
      "  Equilibration time: 8257 +/- 718 steps\n",
      "  RMSE: 0.038 +/- 0.016 kT\n",
      "\n",
      "State range: 7-18\n",
      "  Equilibration time: 7984 +/- 1243 steps\n",
      "  RMSE: 0.032 +/- 0.007 kT\n",
      "\n",
      "State range: 14-25\n",
      "  Equilibration time: 7693 +/- 491 steps\n",
      "  RMSE: 0.040 +/- 0.017 kT\n",
      "\n",
      "State range: 21-32\n",
      "  Equilibration time: 6851 +/- 683 steps\n",
      "  RMSE: 0.042 +/- 0.016 kT\n",
      "\n",
      "State range: 28-39\n",
      "  Equilibration time: 7490 +/- 661 steps\n",
      "  RMSE: 0.032 +/- 0.013 kT\n",
      "\n",
      "Computational cost: 41286.5 A.U.\n"
     ]
    }
   ],
   "source": [
    "s = 7\n",
    "n_sub = 12\n",
    "n_sim = 5\n",
    "t_equil_all = []\n",
    "for i in range(n_sim):\n",
    "    t_equil_list, rmse_list = [], []\n",
    "    for j in range(10):\n",
    "        f_ref = f_ref_whole[i * s : i * s + n_sub]\n",
    "        simulator = mock_WL_algorithm(params_dict, f_ref)\n",
    "        simulator.run()\n",
    "        t_equil_list.append(simulator.equil_time)\n",
    "        rmse_list.append(calc_rmse(simulator.g, f_ref - f_ref[0]))\n",
    "\n",
    "\n",
    "    t_equil = np.mean(t_equil_list)\n",
    "    t_equil_err = np.std(t_equil_list, ddof=1)\n",
    "    rmse = np.mean(rmse_list)\n",
    "    rmse_err = np.std(rmse_list, ddof=1)\n",
    "    t_equil_all.append(t_equil)\n",
    "\n",
    "    print(f'State range: {i * s}-{i * s + n_sub - 1}')\n",
    "    print(f'  Equilibration time: {t_equil:.0f} +/- {t_equil_err:.0f} steps')\n",
    "    print(f'  RMSE: {rmse:.3f} +/- {rmse_err:.3f} kT\\n')\n",
    "\n",
    "print(f'Computational cost: {max(t_equil_all) * n_sim} A.U.')"
   ]
  },
  {
   "cell_type": "markdown",
   "id": "89add2b4",
   "metadata": {},
   "source": [
    "### n_sim=6, s=6, n_sub=10"
   ]
  },
  {
   "cell_type": "code",
   "execution_count": 31,
   "id": "34ba38ab",
   "metadata": {},
   "outputs": [
    {
     "name": "stdout",
     "output_type": "stream",
     "text": [
      "State range: 0-9\n",
      "  Equilibration time: 6474 +/- 674 steps\n",
      "  RMSE: 0.042 +/- 0.019 kT\n",
      "\n",
      "State range: 6-15\n",
      "  Equilibration time: 6277 +/- 729 steps\n",
      "  RMSE: 0.034 +/- 0.011 kT\n",
      "\n",
      "State range: 12-21\n",
      "  Equilibration time: 6080 +/- 994 steps\n",
      "  RMSE: 0.038 +/- 0.013 kT\n",
      "\n",
      "State range: 18-27\n",
      "  Equilibration time: 5395 +/- 809 steps\n",
      "  RMSE: 0.040 +/- 0.021 kT\n",
      "\n",
      "State range: 24-33\n",
      "  Equilibration time: 5721 +/- 848 steps\n",
      "  RMSE: 0.037 +/- 0.010 kT\n",
      "\n",
      "State range: 30-39\n",
      "  Equilibration time: 5574 +/- 887 steps\n",
      "  RMSE: 0.031 +/- 0.011 kT\n",
      "\n",
      "Computational cost: 38841.600000000006 A.U.\n"
     ]
    }
   ],
   "source": [
    "s = 6\n",
    "n_sub = 10\n",
    "n_sim = 6\n",
    "t_equil_all = []\n",
    "for i in range(n_sim):\n",
    "    t_equil_list, rmse_list = [], []\n",
    "    for j in range(10):\n",
    "        f_ref = f_ref_whole[i * s : i * s + n_sub]\n",
    "        simulator = mock_WL_algorithm(params_dict, f_ref)\n",
    "        simulator.run()\n",
    "        t_equil_list.append(simulator.equil_time)\n",
    "        rmse_list.append(calc_rmse(simulator.g, f_ref - f_ref[0]))\n",
    "\n",
    "\n",
    "    t_equil = np.mean(t_equil_list)\n",
    "    t_equil_err = np.std(t_equil_list, ddof=1)\n",
    "    rmse = np.mean(rmse_list)\n",
    "    rmse_err = np.std(rmse_list, ddof=1)\n",
    "    t_equil_all.append(t_equil)\n",
    "\n",
    "    print(f'State range: {i * s}-{i * s + n_sub - 1}')\n",
    "    print(f'  Equilibration time: {t_equil:.0f} +/- {t_equil_err:.0f} steps')\n",
    "    print(f'  RMSE: {rmse:.3f} +/- {rmse_err:.3f} kT\\n')\n",
    "\n",
    "print(f'Computational cost: {max(t_equil_all) * n_sim} A.U.')"
   ]
  },
  {
   "cell_type": "code",
   "execution_count": 40,
   "id": "41a259f3",
   "metadata": {},
   "outputs": [
    {
     "data": {
      "text/plain": [
       "Text(0, 0.5, 'Computational cost (A.U.)')"
      ]
     },
     "execution_count": 40,
     "metadata": {},
     "output_type": "execute_result"
    },
    {
     "data": {
      "image/png": "[encoded data removed]",
      "text/plain": [
       "<Figure size 432x288 with 1 Axes>"
      ]
     },
     "metadata": {
      "needs_background": "light"
     },
     "output_type": "display_data"
    }
   ],
   "source": [
    "n_sim = [1, 2, 3, 4, 5, 6]\n",
    "cost = [46601, 38083, 31849, 37673, 41287, 38841]\n",
    "cost_err = [3129, 1705 * 2, 837 * 3, 1074 * 4, 718 * 5, 674 * 6]\n",
    "plt.figure()\n",
    "plt.bar(n_sim, cost, alpha=0.7)\n",
    "plt.errorbar(n_sim, cost, yerr=cost_err, capsize=5)\n",
    "plt.xlabel('Number of replicas')\n",
    "plt.ylabel('Computational cost (A.U.)')"
   ]
  },
  {
   "cell_type": "code",
   "execution_count": null,
   "id": "e8d1e831",
   "metadata": {},
   "outputs": [],
   "source": []
  }
 ],
 "metadata": {
  "kernelspec": {
   "display_name": "Python 3",
   "language": "python",
   "name": "python3"
  },
  "language_info": {
   "codemirror_mode": {
    "name": "ipython",
    "version": 3
   },
   "file_extension": ".py",
   "mimetype": "text/x-python",
   "name": "python",
   "nbconvert_exporter": "python",
   "pygments_lexer": "ipython3",
   "version": "3.9.15"
  }
 },
 "nbformat": 4,
 "nbformat_minor": 5
}
